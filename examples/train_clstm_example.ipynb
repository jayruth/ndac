{
 "cells": [
  {
   "cell_type": "code",
   "execution_count": 10,
   "metadata": {},
   "outputs": [],
   "source": [
    "import pandas as pd\n",
    "import matplotlib.pyplot as plt\n",
    "%matplotlib inline\n",
    "\n",
    "from keras import backend as K\n",
    "from ndac.data_processing import quantile_classify, encode_sequence, value_classify\n",
    "from ndac.predict import train_clstm"
   ]
  },
  {
   "cell_type": "code",
   "execution_count": 2,
   "metadata": {},
   "outputs": [],
   "source": [
    "# read in sequence/property data\n",
    "data = pd.read_csv('dataframes/DF_prest.csv', index_col=0)"
   ]
  },
  {
   "cell_type": "markdown",
   "metadata": {},
   "source": [
    "# train with nucleotide seq"
   ]
  },
  {
   "cell_type": "code",
   "execution_count": 3,
   "metadata": {},
   "outputs": [
    {
     "name": "stdout",
     "output_type": "stream",
     "text": [
      "45206 samples input.\n",
      "11302 samples in class 0\n",
      "11301 samples in class 1\n",
      "22603 samples removed.\n",
      "WARNING:tensorflow:From /Users/joshsmith/Git/NovoNordisk_Capstone/.env/lib/python3.6/site-packages/tensorflow/python/util/deprecation.py:497: calling conv1d (from tensorflow.python.ops.nn_ops) with data_format=NHWC is deprecated and will be removed in a future version.\n",
      "Instructions for updating:\n",
      "`NHWC` for data_format is deprecated, use `NWC` instead\n",
      "_________________________________________________________________\n",
      "Layer (type)                 Output Shape              Param #   \n",
      "=================================================================\n",
      "embedding_1 (Embedding)      (None, 200, 4)            296       \n",
      "_________________________________________________________________\n",
      "conv1d_1 (Conv1D)            (None, 200, 128)          1664      \n",
      "_________________________________________________________________\n",
      "max_pooling1d_1 (MaxPooling1 (None, 100, 128)          0         \n",
      "_________________________________________________________________\n",
      "lstm_1 (LSTM)                (None, 100)               91600     \n",
      "_________________________________________________________________\n",
      "dense_1 (Dense)              (None, 1)                 101       \n",
      "=================================================================\n",
      "Total params: 93,661\n",
      "Trainable params: 93,661\n",
      "Non-trainable params: 0\n",
      "_________________________________________________________________\n",
      "None\n",
      "Epoch 1/1\n",
      "15677/15677 [==============================] - 24s 2ms/step - loss: 0.6856 - acc: 0.5382\n",
      "Accuracy: 62.05%\n"
     ]
    },
    {
     "data": {
      "image/png": "[encoded data removed]",
      "text/plain": [
       "<Figure size 432x288 with 1 Axes>"
      ]
     },
     "metadata": {},
     "output_type": "display_data"
    }
   ],
   "source": [
    "# split quantiles and encode with nucleotide sequence\n",
    "df, hist = quantile_classify(data['conc_cf'], data['nt_seq'],\n",
    "                             [0.25, 0.75], drop_class=[1])\n",
    "X, y = encode_sequence(df['nt_seq'], df['class'],\n",
    "                       max_length=200, tag='GACAAGCTTGCGGCCGCA')\n",
    "\n",
    "nt_model = train_clstm(X, y, test_fraction=0.3, \n",
    "                       epochs=1)"
   ]
  },
  {
   "cell_type": "code",
   "execution_count": 4,
   "metadata": {},
   "outputs": [
    {
     "data": {
      "text/plain": [
       "<matplotlib.image.AxesImage at 0x12886e5f8>"
      ]
     },
     "execution_count": 4,
     "metadata": {},
     "output_type": "execute_result"
    },
    {
     "data": {
      "image/png": "[encoded data removed]",
      "text/plain": [
       "<Figure size 720x72 with 1 Axes>"
      ]
     },
     "metadata": {},
     "output_type": "display_data"
    }
   ],
   "source": [
    "# Visualize embedded sequence after training nt_model\n",
    "get_1st_layer_output = K.function([nt_model.layers[0].input, K.learning_phase()],\n",
    "                                  [nt_model.layers[0].output])\n",
    "\n",
    "x = X[0].reshape(-1,200)  # after using keras Tokenizer on X\n",
    "# output in train mode = 1\n",
    "layer_output = get_1st_layer_output([x, 1])[0]\n",
    "\n",
    "plt.figure(figsize=(10, 1))\n",
    "plt.imshow(layer_output[0].T)"
   ]
  },
  {
   "cell_type": "markdown",
   "metadata": {},
   "source": [
    "# train with amino acid sequence"
   ]
  },
  {
   "cell_type": "code",
   "execution_count": 5,
   "metadata": {
    "scrolled": true
   },
   "outputs": [
    {
     "name": "stdout",
     "output_type": "stream",
     "text": [
      "45206 samples input.\n",
      "11302 samples in class 0\n",
      "11301 samples in class 1\n",
      "22603 samples removed.\n",
      "_________________________________________________________________\n",
      "Layer (type)                 Output Shape              Param #   \n",
      "=================================================================\n",
      "embedding_2 (Embedding)      (None, 200, 4)            84        \n",
      "_________________________________________________________________\n",
      "conv1d_2 (Conv1D)            (None, 200, 128)          1664      \n",
      "_________________________________________________________________\n",
      "max_pooling1d_2 (MaxPooling1 (None, 100, 128)          0         \n",
      "_________________________________________________________________\n",
      "lstm_2 (LSTM)                (None, 100)               91600     \n",
      "_________________________________________________________________\n",
      "dense_2 (Dense)              (None, 1)                 101       \n",
      "=================================================================\n",
      "Total params: 93,449\n",
      "Trainable params: 93,449\n",
      "Non-trainable params: 0\n",
      "_________________________________________________________________\n",
      "None\n",
      "Epoch 1/1\n",
      "15822/15822 [==============================] - 25s 2ms/step - loss: 0.6749 - acc: 0.5713\n",
      "Accuracy: 62.88%\n"
     ]
    },
    {
     "data": {
      "image/png": "[encoded data removed]",
      "text/plain": [
       "<Figure size 432x288 with 1 Axes>"
      ]
     },
     "metadata": {},
     "output_type": "display_data"
    }
   ],
   "source": [
    "df, hist = quantile_classify(data['conc_cf'], data['aa_seq'],\n",
    "                             [0.25, 0.75], drop_class=[1])\n",
    "X, y = encode_sequence(df['aa_seq'], df['class'],\n",
    "                       max_length=200)\n",
    "\n",
    "aa_model = train_clstm(X, y, test_fraction=0.3, epochs=1)"
   ]
  },
  {
   "cell_type": "code",
   "execution_count": 7,
   "metadata": {},
   "outputs": [
    {
     "data": {
      "text/plain": [
       "<matplotlib.image.AxesImage at 0x12585c128>"
      ]
     },
     "execution_count": 7,
     "metadata": {},
     "output_type": "execute_result"
    },
    {
     "data": {
      "image/png": "[encoded data removed]",
      "text/plain": [
       "<Figure size 720x72 with 1 Axes>"
      ]
     },
     "metadata": {},
     "output_type": "display_data"
    }
   ],
   "source": [
    "# Visualize embedded sequence after training aa_model\n",
    "get_1st_layer_output = K.function([aa_model.layers[0].input, K.learning_phase()],\n",
    "                                  [aa_model.layers[0].output])\n",
    "\n",
    "x = X[0].reshape(-1,200)  # after using keras Tokenizer on X\n",
    "# output in train mode = 1\n",
    "layer_output = get_1st_layer_output([x, 1])[0]\n",
    "\n",
    "plt.figure(figsize=(10, 1))\n",
    "plt.imshow(layer_output[0].T)"
   ]
  },
  {
   "cell_type": "markdown",
   "metadata": {},
   "source": [
    "# solubility multiclass"
   ]
  },
  {
   "cell_type": "code",
   "execution_count": 18,
   "metadata": {},
   "outputs": [],
   "source": [
    "# read in sequence/property data\n",
    "data = pd.read_csv('dataframes/DF_solubility.csv', index_col=0)"
   ]
  },
  {
   "cell_type": "code",
   "execution_count": 20,
   "metadata": {},
   "outputs": [
    {
     "name": "stdout",
     "output_type": "stream",
     "text": [
      "16082 samples input.\n",
      "3324 samples in class 0\n",
      "7667 samples in class 1\n",
      "5091 samples removed.\n",
      "_________________________________________________________________\n",
      "Layer (type)                 Output Shape              Param #   \n",
      "=================================================================\n",
      "embedding_6 (Embedding)      (None, 200, 4)            84        \n",
      "_________________________________________________________________\n",
      "conv1d_6 (Conv1D)            (None, 200, 128)          1664      \n",
      "_________________________________________________________________\n",
      "max_pooling1d_6 (MaxPooling1 (None, 100, 128)          0         \n",
      "_________________________________________________________________\n",
      "lstm_6 (LSTM)                (None, 100)               91600     \n",
      "_________________________________________________________________\n",
      "dense_6 (Dense)              (None, 1)                 101       \n",
      "=================================================================\n",
      "Total params: 93,449\n",
      "Trainable params: 93,449\n",
      "Non-trainable params: 0\n",
      "_________________________________________________________________\n",
      "None\n",
      "Epoch 1/1\n",
      "7693/7693 [==============================] - 13s 2ms/step - loss: 0.5822 - acc: 0.7047\n",
      "Accuracy: 76.86%\n"
     ]
    },
    {
     "data": {
      "image/png": "[encoded data removed]",
      "text/plain": [
       "<Figure size 432x288 with 1 Axes>"
      ]
     },
     "metadata": {},
     "output_type": "display_data"
    }
   ],
   "source": [
    "df, hist = value_classify(data['solubility_class_1M'], data['aa_seq'],\n",
    "                             [3.9, 4.1], drop_class=[1])\n",
    "X, y = encode_sequence(df['aa_seq'], df['class'],\n",
    "                       max_length=200)\n",
    "aa_model = train_clstm(X, y, test_fraction=0.3, epochs=1)"
   ]
  },
  {
   "cell_type": "code",
   "execution_count": 22,
   "metadata": {},
   "outputs": [
    {
     "name": "stdout",
     "output_type": "stream",
     "text": [
      "16082 samples input.\n",
      "838 samples in class 0\n",
      "1071 samples in class 1\n",
      "1394 samples in class 2\n",
      "5112 samples in class 3\n",
      "7667 samples in class 4\n",
      "0 samples removed.\n",
      "_________________________________________________________________\n",
      "Layer (type)                 Output Shape              Param #   \n",
      "=================================================================\n",
      "embedding_8 (Embedding)      (None, 200, 4)            84        \n",
      "_________________________________________________________________\n",
      "conv1d_8 (Conv1D)            (None, 200, 128)          1664      \n",
      "_________________________________________________________________\n",
      "max_pooling1d_8 (MaxPooling1 (None, 100, 128)          0         \n",
      "_________________________________________________________________\n",
      "lstm_8 (LSTM)                (None, 100)               91600     \n",
      "_________________________________________________________________\n",
      "dense_8 (Dense)              (None, 5)                 505       \n",
      "=================================================================\n",
      "Total params: 93,853\n",
      "Trainable params: 93,853\n",
      "Non-trainable params: 0\n",
      "_________________________________________________________________\n",
      "None\n",
      "Epoch 1/1\n",
      "11257/11257 [==============================] - 19s 2ms/step - loss: 1.2842 - acc: 0.4714\n",
      "Accuracy: 47.69%\n"
     ]
    },
    {
     "data": {
      "image/png": "[encoded data removed]",
      "text/plain": [
       "<Figure size 432x288 with 1 Axes>"
      ]
     },
     "metadata": {},
     "output_type": "display_data"
    }
   ],
   "source": [
    "df, hist = value_classify(data['solubility_class_1M'], data['aa_seq'],\n",
    "                             [1, 2, 3, 4])\n",
    "X, y = encode_sequence(df['aa_seq'], df['class'],\n",
    "                       max_length=200)\n",
    "aa_model = train_clstm(X, y, test_fraction=0.3, epochs=1)"
   ]
  },
  {
   "cell_type": "code",
   "execution_count": null,
   "metadata": {},
   "outputs": [],
   "source": []
  }
 ],
 "metadata": {
  "anaconda-cloud": {},
  "kernelspec": {
   "display_name": "Novo Capstone",
   "language": "python",
   "name": "novo"
  },
  "language_info": {
   "codemirror_mode": {
    "name": "ipython",
    "version": 3
   },
   "file_extension": ".py",
   "mimetype": "text/x-python",
   "name": "python",
   "nbconvert_exporter": "python",
   "pygments_lexer": "ipython3",
   "version": "3.6.4"
  }
 },
 "nbformat": 4,
 "nbformat_minor": 2
}
